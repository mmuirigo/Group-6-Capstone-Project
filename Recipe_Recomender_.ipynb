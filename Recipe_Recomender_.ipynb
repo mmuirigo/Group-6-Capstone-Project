{
  "cells": [
    {
      "cell_type": "markdown",
      "metadata": {},
      "source": [
        "# Business Understanding\n",
        "\n",
        "Preparing meals is often a challenge due to individual preferences, dietary needs, and ingredient availability. This project aims to develop a Personalized Recipe Recommendation System that uses machine learning and NLP to suggest relevant recipes tailored to each user. The system is designed to enhance convenience, promote healthier eating habits, and reduce food waste. It has potential applications in health tech, food delivery platforms, and smart kitchen systems.\n",
        "\n",
        "## Problem Statement\n",
        "To develop a Personalized Recipe Recommendation System that leverages machine learning and NLP \n",
        "\n",
        "## Objectives\n",
        "\n",
        "1.   To develop a content-based model using NLP to recommend recipes based on ingredients and instructions.\n",
        "2.   To build a collaborative filtering model using user ratings and interactions.\n",
        "3.   To combine both approaches into a hybrid recommendation system.\n",
        "4.   To evaluate model performance"
      ]
    },
    {
      "cell_type": "code",
      "execution_count": 1,
      "metadata": {
        "id": "z0F_xc7r5Ido"
      },
      "outputs": [],
      "source": [
        "\n",
        "import kagglehub\n",
        "from kagglehub import KaggleDatasetAdapter"
      ]
    },
    {
      "cell_type": "code",
      "execution_count": 2,
      "metadata": {
        "colab": {
          "base_uri": "https://localhost:8080/"
        },
        "id": "HQfeYoNsPG5h",
        "outputId": "6eded97e-8db6-4466-9cbc-0335bc9b412f"
      },
      "outputs": [
        {
          "name": "stdout",
          "output_type": "stream",
          "text": [
            "Collecting isodate\n",
            "  Downloading isodate-0.7.2-py3-none-any.whl.metadata (11 kB)\n",
            "Downloading isodate-0.7.2-py3-none-any.whl (22 kB)\n",
            "Installing collected packages: isodate\n",
            "Successfully installed isodate-0.7.2\n"
          ]
        }
      ],
      "source": [
        "pip install isodate\n"
      ]
    },
    {
      "cell_type": "code",
      "execution_count": 3,
      "metadata": {
        "id": "2ERem5LsJB6X"
      },
      "outputs": [],
      "source": [
        "import pandas as pd\n",
        "import numpy as np\n",
        "import ast\n",
        "import matplotlib.pyplot as plt\n",
        "import seaborn as sns\n",
        "from isodate import parse_duration\n",
        "import warnings\n",
        "warnings.filterwarnings(\"ignore\")"
      ]
    },
    {
      "cell_type": "code",
      "execution_count": 4,
      "metadata": {
        "colab": {
          "base_uri": "https://localhost:8080/"
        },
        "id": "jBfjJRJVHnE-",
        "outputId": "92a82afa-3f6e-4ffa-b50d-73a300b9da9d"
      },
      "outputs": [
        {
          "name": "stdout",
          "output_type": "stream",
          "text": [
            "Downloading from https://www.kaggle.com/api/v1/datasets/download/irkaal/foodcom-recipes-and-reviews?dataset_version_number=2&file_name=recipes.parquet...\n"
          ]
        },
        {
          "name": "stderr",
          "output_type": "stream",
          "text": [
            "100%|██████████| 170M/170M [00:02<00:00, 80.7MB/s]"
          ]
        },
        {
          "name": "stdout",
          "output_type": "stream",
          "text": [
            "Extracting zip of recipes.parquet...\n"
          ]
        },
        {
          "name": "stderr",
          "output_type": "stream",
          "text": [
            "\n"
          ]
        }
      ],
      "source": [
        "file_path = \"recipes.parquet\"\n",
        "\n",
        "df_recipes = kagglehub.load_dataset(\n",
        "    KaggleDatasetAdapter.PANDAS,\n",
        "    \"irkaal/foodcom-recipes-and-reviews\",\n",
        "    file_path,\n",
        ")\n"
      ]
    },
    {
      "cell_type": "code",
      "execution_count": 5,
      "metadata": {
        "colab": {
          "base_uri": "https://localhost:8080/"
        },
        "id": "LWCSEdzp74Hr",
        "outputId": "37d0bd6c-1cc9-4943-f197-d7aa9e3ecb8f"
      },
      "outputs": [
        {
          "name": "stdout",
          "output_type": "stream",
          "text": [
            "Downloading from https://www.kaggle.com/api/v1/datasets/download/irkaal/foodcom-recipes-and-reviews?dataset_version_number=2&file_name=reviews.parquet...\n"
          ]
        },
        {
          "name": "stderr",
          "output_type": "stream",
          "text": [
            "100%|██████████| 164M/164M [00:01<00:00, 130MB/s]"
          ]
        },
        {
          "name": "stdout",
          "output_type": "stream",
          "text": [
            "Extracting zip of reviews.parquet...\n"
          ]
        },
        {
          "name": "stderr",
          "output_type": "stream",
          "text": [
            "\n"
          ]
        }
      ],
      "source": [
        "file_path2 = \"reviews.parquet\"\n",
        "\n",
        "df_reviews = kagglehub.load_dataset(\n",
        "    KaggleDatasetAdapter.PANDAS,\n",
        "    \"irkaal/foodcom-recipes-and-reviews\",\n",
        "    file_path2,\n",
        ")\n"
      ]
    },
    {
      "cell_type": "markdown",
      "metadata": {
        "id": "DaY8Lp8hU1q3"
      },
      "source": [
        "# Data Understanding\n"
      ]
    },
    {
      "cell_type": "code",
      "execution_count": 6,
      "metadata": {
        "colab": {
          "base_uri": "https://localhost:8080/"
        },
        "id": "KDSVJzjnH89w",
        "outputId": "e9e434da-886b-431d-84e3-2369a4a473e8"
      },
      "outputs": [
        {
          "name": "stdout",
          "output_type": "stream",
          "text": [
            "Recipes: (522517, 28)\n",
            "Reviews: (1401982, 8)\n"
          ]
        }
      ],
      "source": [
        "print(\"Recipes:\", df_recipes.shape)\n",
        "print(\"Reviews:\", df_reviews.shape)"
      ]
    },
    {
      "cell_type": "code",
      "execution_count": 7,
      "metadata": {
        "colab": {
          "base_uri": "https://localhost:8080/"
        },
        "id": "GGgQk7Ec6Wp2",
        "outputId": "e1ff9167-c52b-4e68-cee1-76ca24fed13e"
      },
      "outputs": [
        {
          "name": "stdout",
          "output_type": "stream",
          "text": [
            "<class 'pandas.core.frame.DataFrame'>\n",
            "RangeIndex: 522517 entries, 0 to 522516\n",
            "Data columns (total 28 columns):\n",
            " #   Column                      Non-Null Count   Dtype              \n",
            "---  ------                      --------------   -----              \n",
            " 0   RecipeId                    522517 non-null  float64            \n",
            " 1   Name                        522517 non-null  object             \n",
            " 2   AuthorId                    522517 non-null  int32              \n",
            " 3   AuthorName                  522517 non-null  object             \n",
            " 4   CookTime                    439972 non-null  object             \n",
            " 5   PrepTime                    522517 non-null  object             \n",
            " 6   TotalTime                   522517 non-null  object             \n",
            " 7   DatePublished               522517 non-null  datetime64[us, UTC]\n",
            " 8   Description                 522512 non-null  object             \n",
            " 9   Images                      522516 non-null  object             \n",
            " 10  RecipeCategory              521766 non-null  object             \n",
            " 11  Keywords                    522517 non-null  object             \n",
            " 12  RecipeIngredientQuantities  522517 non-null  object             \n",
            " 13  RecipeIngredientParts       522517 non-null  object             \n",
            " 14  AggregatedRating            269294 non-null  float64            \n",
            " 15  ReviewCount                 275028 non-null  float64            \n",
            " 16  Calories                    522517 non-null  float64            \n",
            " 17  FatContent                  522517 non-null  float64            \n",
            " 18  SaturatedFatContent         522517 non-null  float64            \n",
            " 19  CholesterolContent          522517 non-null  float64            \n",
            " 20  SodiumContent               522517 non-null  float64            \n",
            " 21  CarbohydrateContent         522517 non-null  float64            \n",
            " 22  FiberContent                522517 non-null  float64            \n",
            " 23  SugarContent                522517 non-null  float64            \n",
            " 24  ProteinContent              522517 non-null  float64            \n",
            " 25  RecipeServings              339606 non-null  float64            \n",
            " 26  RecipeYield                 174446 non-null  object             \n",
            " 27  RecipeInstructions          522517 non-null  object             \n",
            "dtypes: datetime64[us, UTC](1), float64(13), int32(1), object(13)\n",
            "memory usage: 109.6+ MB\n"
          ]
        }
      ],
      "source": [
        "df_recipes.info()"
      ]
    },
    {
      "cell_type": "code",
      "execution_count": 8,
      "metadata": {
        "colab": {
          "base_uri": "https://localhost:8080/"
        },
        "id": "HvPjbn096i7d",
        "outputId": "ce50f967-dd2e-41ba-cf9d-1dd2203eb1b4"
      },
      "outputs": [
        {
          "name": "stdout",
          "output_type": "stream",
          "text": [
            "<class 'pandas.core.frame.DataFrame'>\n",
            "RangeIndex: 1401982 entries, 0 to 1401981\n",
            "Data columns (total 8 columns):\n",
            " #   Column         Non-Null Count    Dtype              \n",
            "---  ------         --------------    -----              \n",
            " 0   ReviewId       1401982 non-null  int32              \n",
            " 1   RecipeId       1401982 non-null  int32              \n",
            " 2   AuthorId       1401982 non-null  int32              \n",
            " 3   AuthorName     1401982 non-null  object             \n",
            " 4   Rating         1401982 non-null  int32              \n",
            " 5   Review         1401982 non-null  object             \n",
            " 6   DateSubmitted  1401982 non-null  datetime64[us, UTC]\n",
            " 7   DateModified   1401982 non-null  datetime64[us, UTC]\n",
            "dtypes: datetime64[us, UTC](2), int32(4), object(2)\n",
            "memory usage: 64.2+ MB\n"
          ]
        }
      ],
      "source": [
        "df_reviews.info()"
      ]
    },
    {
      "cell_type": "code",
      "execution_count": 9,
      "metadata": {
        "colab": {
          "base_uri": "https://localhost:8080/",
          "height": 602
        },
        "id": "A8sH1Y8X_g6c",
        "outputId": "d40dd13d-a2a9-416d-8e67-9afdc3f4e0de"
      },
      "outputs": [
        {
          "data": {
            "application/vnd.google.colaboratory.intrinsic+json": {
              "type": "dataframe",
              "variable_name": "df_recipes"
            },
            "text/html": [
              "\n",
              "  <div id=\"df-858c43f5-9114-4361-88d3-b7b53c5e3ab9\" class=\"colab-df-container\">\n",
              "    <div>\n",
              "<style scoped>\n",
              "    .dataframe tbody tr th:only-of-type {\n",
              "        vertical-align: middle;\n",
              "    }\n",
              "\n",
              "    .dataframe tbody tr th {\n",
              "        vertical-align: top;\n",
              "    }\n",
              "\n",
              "    .dataframe thead th {\n",
              "        text-align: right;\n",
              "    }\n",
              "</style>\n",
              "<table border=\"1\" class=\"dataframe\">\n",
              "  <thead>\n",
              "    <tr style=\"text-align: right;\">\n",
              "      <th></th>\n",
              "      <th>RecipeId</th>\n",
              "      <th>Name</th>\n",
              "      <th>AuthorId</th>\n",
              "      <th>AuthorName</th>\n",
              "      <th>CookTime</th>\n",
              "      <th>PrepTime</th>\n",
              "      <th>TotalTime</th>\n",
              "      <th>DatePublished</th>\n",
              "      <th>Description</th>\n",
              "      <th>Images</th>\n",
              "      <th>...</th>\n",
              "      <th>SaturatedFatContent</th>\n",
              "      <th>CholesterolContent</th>\n",
              "      <th>SodiumContent</th>\n",
              "      <th>CarbohydrateContent</th>\n",
              "      <th>FiberContent</th>\n",
              "      <th>SugarContent</th>\n",
              "      <th>ProteinContent</th>\n",
              "      <th>RecipeServings</th>\n",
              "      <th>RecipeYield</th>\n",
              "      <th>RecipeInstructions</th>\n",
              "    </tr>\n",
              "  </thead>\n",
              "  <tbody>\n",
              "    <tr>\n",
              "      <th>0</th>\n",
              "      <td>38.0</td>\n",
              "      <td>Low-Fat Berry Blue Frozen Dessert</td>\n",
              "      <td>1533</td>\n",
              "      <td>Dancer</td>\n",
              "      <td>PT24H</td>\n",
              "      <td>PT45M</td>\n",
              "      <td>PT24H45M</td>\n",
              "      <td>1999-08-09 21:46:00+00:00</td>\n",
              "      <td>Make and share this Low-Fat Berry Blue Frozen ...</td>\n",
              "      <td>[https://img.sndimg.com/food/image/upload/w_55...</td>\n",
              "      <td>...</td>\n",
              "      <td>1.3</td>\n",
              "      <td>8.0</td>\n",
              "      <td>29.8</td>\n",
              "      <td>37.1</td>\n",
              "      <td>3.6</td>\n",
              "      <td>30.2</td>\n",
              "      <td>3.2</td>\n",
              "      <td>4.0</td>\n",
              "      <td>None</td>\n",
              "      <td>[Toss 2 cups berries with sugar., Let stand fo...</td>\n",
              "    </tr>\n",
              "    <tr>\n",
              "      <th>1</th>\n",
              "      <td>39.0</td>\n",
              "      <td>Biryani</td>\n",
              "      <td>1567</td>\n",
              "      <td>elly9812</td>\n",
              "      <td>PT25M</td>\n",
              "      <td>PT4H</td>\n",
              "      <td>PT4H25M</td>\n",
              "      <td>1999-08-29 13:12:00+00:00</td>\n",
              "      <td>Make and share this Biryani recipe from Food.com.</td>\n",
              "      <td>[https://img.sndimg.com/food/image/upload/w_55...</td>\n",
              "      <td>...</td>\n",
              "      <td>16.6</td>\n",
              "      <td>372.8</td>\n",
              "      <td>368.4</td>\n",
              "      <td>84.4</td>\n",
              "      <td>9.0</td>\n",
              "      <td>20.4</td>\n",
              "      <td>63.4</td>\n",
              "      <td>6.0</td>\n",
              "      <td>None</td>\n",
              "      <td>[Soak saffron in warm milk for 5 minutes and p...</td>\n",
              "    </tr>\n",
              "    <tr>\n",
              "      <th>2</th>\n",
              "      <td>40.0</td>\n",
              "      <td>Best Lemonade</td>\n",
              "      <td>1566</td>\n",
              "      <td>Stephen Little</td>\n",
              "      <td>PT5M</td>\n",
              "      <td>PT30M</td>\n",
              "      <td>PT35M</td>\n",
              "      <td>1999-09-05 19:52:00+00:00</td>\n",
              "      <td>This is from one of my  first Good House Keepi...</td>\n",
              "      <td>[https://img.sndimg.com/food/image/upload/w_55...</td>\n",
              "      <td>...</td>\n",
              "      <td>0.0</td>\n",
              "      <td>0.0</td>\n",
              "      <td>1.8</td>\n",
              "      <td>81.5</td>\n",
              "      <td>0.4</td>\n",
              "      <td>77.2</td>\n",
              "      <td>0.3</td>\n",
              "      <td>4.0</td>\n",
              "      <td>None</td>\n",
              "      <td>[Into a 1 quart Jar with tight fitting lid, pu...</td>\n",
              "    </tr>\n",
              "    <tr>\n",
              "      <th>3</th>\n",
              "      <td>41.0</td>\n",
              "      <td>Carina's Tofu-Vegetable Kebabs</td>\n",
              "      <td>1586</td>\n",
              "      <td>Cyclopz</td>\n",
              "      <td>PT20M</td>\n",
              "      <td>PT24H</td>\n",
              "      <td>PT24H20M</td>\n",
              "      <td>1999-09-03 14:54:00+00:00</td>\n",
              "      <td>This dish is best prepared a day in advance to...</td>\n",
              "      <td>[https://img.sndimg.com/food/image/upload/w_55...</td>\n",
              "      <td>...</td>\n",
              "      <td>3.8</td>\n",
              "      <td>0.0</td>\n",
              "      <td>1558.6</td>\n",
              "      <td>64.2</td>\n",
              "      <td>17.3</td>\n",
              "      <td>32.1</td>\n",
              "      <td>29.3</td>\n",
              "      <td>2.0</td>\n",
              "      <td>4 kebabs</td>\n",
              "      <td>[Drain the tofu, carefully squeezing out exces...</td>\n",
              "    </tr>\n",
              "    <tr>\n",
              "      <th>4</th>\n",
              "      <td>42.0</td>\n",
              "      <td>Cabbage Soup</td>\n",
              "      <td>1538</td>\n",
              "      <td>Duckie067</td>\n",
              "      <td>PT30M</td>\n",
              "      <td>PT20M</td>\n",
              "      <td>PT50M</td>\n",
              "      <td>1999-09-19 06:19:00+00:00</td>\n",
              "      <td>Make and share this Cabbage Soup recipe from F...</td>\n",
              "      <td>[https://img.sndimg.com/food/image/upload/w_55...</td>\n",
              "      <td>...</td>\n",
              "      <td>0.1</td>\n",
              "      <td>0.0</td>\n",
              "      <td>959.3</td>\n",
              "      <td>25.1</td>\n",
              "      <td>4.8</td>\n",
              "      <td>17.7</td>\n",
              "      <td>4.3</td>\n",
              "      <td>4.0</td>\n",
              "      <td>None</td>\n",
              "      <td>[Mix everything together and bring to a boil.,...</td>\n",
              "    </tr>\n",
              "  </tbody>\n",
              "</table>\n",
              "<p>5 rows × 28 columns</p>\n",
              "</div>\n",
              "    <div class=\"colab-df-buttons\">\n",
              "\n",
              "  <div class=\"colab-df-container\">\n",
              "    <button class=\"colab-df-convert\" onclick=\"convertToInteractive('df-858c43f5-9114-4361-88d3-b7b53c5e3ab9')\"\n",
              "            title=\"Convert this dataframe to an interactive table.\"\n",
              "            style=\"display:none;\">\n",
              "\n",
              "  <svg xmlns=\"http://www.w3.org/2000/svg\" height=\"24px\" viewBox=\"0 -960 960 960\">\n",
              "    <path d=\"M120-120v-720h720v720H120Zm60-500h600v-160H180v160Zm220 220h160v-160H400v160Zm0 220h160v-160H400v160ZM180-400h160v-160H180v160Zm440 0h160v-160H620v160ZM180-180h160v-160H180v160Zm440 0h160v-160H620v160Z\"/>\n",
              "  </svg>\n",
              "    </button>\n",
              "\n",
              "  <style>\n",
              "    .colab-df-container {\n",
              "      display:flex;\n",
              "      gap: 12px;\n",
              "    }\n",
              "\n",
              "    .colab-df-convert {\n",
              "      background-color: #E8F0FE;\n",
              "      border: none;\n",
              "      border-radius: 50%;\n",
              "      cursor: pointer;\n",
              "      display: none;\n",
              "      fill: #1967D2;\n",
              "      height: 32px;\n",
              "      padding: 0 0 0 0;\n",
              "      width: 32px;\n",
              "    }\n",
              "\n",
              "    .colab-df-convert:hover {\n",
              "      background-color: #E2EBFA;\n",
              "      box-shadow: 0px 1px 2px rgba(60, 64, 67, 0.3), 0px 1px 3px 1px rgba(60, 64, 67, 0.15);\n",
              "      fill: #174EA6;\n",
              "    }\n",
              "\n",
              "    .colab-df-buttons div {\n",
              "      margin-bottom: 4px;\n",
              "    }\n",
              "\n",
              "    [theme=dark] .colab-df-convert {\n",
              "      background-color: #3B4455;\n",
              "      fill: #D2E3FC;\n",
              "    }\n",
              "\n",
              "    [theme=dark] .colab-df-convert:hover {\n",
              "      background-color: #434B5C;\n",
              "      box-shadow: 0px 1px 3px 1px rgba(0, 0, 0, 0.15);\n",
              "      filter: drop-shadow(0px 1px 2px rgba(0, 0, 0, 0.3));\n",
              "      fill: #FFFFFF;\n",
              "    }\n",
              "  </style>\n",
              "\n",
              "    <script>\n",
              "      const buttonEl =\n",
              "        document.querySelector('#df-858c43f5-9114-4361-88d3-b7b53c5e3ab9 button.colab-df-convert');\n",
              "      buttonEl.style.display =\n",
              "        google.colab.kernel.accessAllowed ? 'block' : 'none';\n",
              "\n",
              "      async function convertToInteractive(key) {\n",
              "        const element = document.querySelector('#df-858c43f5-9114-4361-88d3-b7b53c5e3ab9');\n",
              "        const dataTable =\n",
              "          await google.colab.kernel.invokeFunction('convertToInteractive',\n",
              "                                                    [key], {});\n",
              "        if (!dataTable) return;\n",
              "\n",
              "        const docLinkHtml = 'Like what you see? Visit the ' +\n",
              "          '<a target=\"_blank\" href=https://colab.research.google.com/notebooks/data_table.ipynb>data table notebook</a>'\n",
              "          + ' to learn more about interactive tables.';\n",
              "        element.innerHTML = '';\n",
              "        dataTable['output_type'] = 'display_data';\n",
              "        await google.colab.output.renderOutput(dataTable, element);\n",
              "        const docLink = document.createElement('div');\n",
              "        docLink.innerHTML = docLinkHtml;\n",
              "        element.appendChild(docLink);\n",
              "      }\n",
              "    </script>\n",
              "  </div>\n",
              "\n",
              "\n",
              "    <div id=\"df-c80c85b2-0285-4ba8-8e81-acfa93f97d12\">\n",
              "      <button class=\"colab-df-quickchart\" onclick=\"quickchart('df-c80c85b2-0285-4ba8-8e81-acfa93f97d12')\"\n",
              "                title=\"Suggest charts\"\n",
              "                style=\"display:none;\">\n",
              "\n",
              "<svg xmlns=\"http://www.w3.org/2000/svg\" height=\"24px\"viewBox=\"0 0 24 24\"\n",
              "     width=\"24px\">\n",
              "    <g>\n",
              "        <path d=\"M19 3H5c-1.1 0-2 .9-2 2v14c0 1.1.9 2 2 2h14c1.1 0 2-.9 2-2V5c0-1.1-.9-2-2-2zM9 17H7v-7h2v7zm4 0h-2V7h2v10zm4 0h-2v-4h2v4z\"/>\n",
              "    </g>\n",
              "</svg>\n",
              "      </button>\n",
              "\n",
              "<style>\n",
              "  .colab-df-quickchart {\n",
              "      --bg-color: #E8F0FE;\n",
              "      --fill-color: #1967D2;\n",
              "      --hover-bg-color: #E2EBFA;\n",
              "      --hover-fill-color: #174EA6;\n",
              "      --disabled-fill-color: #AAA;\n",
              "      --disabled-bg-color: #DDD;\n",
              "  }\n",
              "\n",
              "  [theme=dark] .colab-df-quickchart {\n",
              "      --bg-color: #3B4455;\n",
              "      --fill-color: #D2E3FC;\n",
              "      --hover-bg-color: #434B5C;\n",
              "      --hover-fill-color: #FFFFFF;\n",
              "      --disabled-bg-color: #3B4455;\n",
              "      --disabled-fill-color: #666;\n",
              "  }\n",
              "\n",
              "  .colab-df-quickchart {\n",
              "    background-color: var(--bg-color);\n",
              "    border: none;\n",
              "    border-radius: 50%;\n",
              "    cursor: pointer;\n",
              "    display: none;\n",
              "    fill: var(--fill-color);\n",
              "    height: 32px;\n",
              "    padding: 0;\n",
              "    width: 32px;\n",
              "  }\n",
              "\n",
              "  .colab-df-quickchart:hover {\n",
              "    background-color: var(--hover-bg-color);\n",
              "    box-shadow: 0 1px 2px rgba(60, 64, 67, 0.3), 0 1px 3px 1px rgba(60, 64, 67, 0.15);\n",
              "    fill: var(--button-hover-fill-color);\n",
              "  }\n",
              "\n",
              "  .colab-df-quickchart-complete:disabled,\n",
              "  .colab-df-quickchart-complete:disabled:hover {\n",
              "    background-color: var(--disabled-bg-color);\n",
              "    fill: var(--disabled-fill-color);\n",
              "    box-shadow: none;\n",
              "  }\n",
              "\n",
              "  .colab-df-spinner {\n",
              "    border: 2px solid var(--fill-color);\n",
              "    border-color: transparent;\n",
              "    border-bottom-color: var(--fill-color);\n",
              "    animation:\n",
              "      spin 1s steps(1) infinite;\n",
              "  }\n",
              "\n",
              "  @keyframes spin {\n",
              "    0% {\n",
              "      border-color: transparent;\n",
              "      border-bottom-color: var(--fill-color);\n",
              "      border-left-color: var(--fill-color);\n",
              "    }\n",
              "    20% {\n",
              "      border-color: transparent;\n",
              "      border-left-color: var(--fill-color);\n",
              "      border-top-color: var(--fill-color);\n",
              "    }\n",
              "    30% {\n",
              "      border-color: transparent;\n",
              "      border-left-color: var(--fill-color);\n",
              "      border-top-color: var(--fill-color);\n",
              "      border-right-color: var(--fill-color);\n",
              "    }\n",
              "    40% {\n",
              "      border-color: transparent;\n",
              "      border-right-color: var(--fill-color);\n",
              "      border-top-color: var(--fill-color);\n",
              "    }\n",
              "    60% {\n",
              "      border-color: transparent;\n",
              "      border-right-color: var(--fill-color);\n",
              "    }\n",
              "    80% {\n",
              "      border-color: transparent;\n",
              "      border-right-color: var(--fill-color);\n",
              "      border-bottom-color: var(--fill-color);\n",
              "    }\n",
              "    90% {\n",
              "      border-color: transparent;\n",
              "      border-bottom-color: var(--fill-color);\n",
              "    }\n",
              "  }\n",
              "</style>\n",
              "\n",
              "      <script>\n",
              "        async function quickchart(key) {\n",
              "          const quickchartButtonEl =\n",
              "            document.querySelector('#' + key + ' button');\n",
              "          quickchartButtonEl.disabled = true;  // To prevent multiple clicks.\n",
              "          quickchartButtonEl.classList.add('colab-df-spinner');\n",
              "          try {\n",
              "            const charts = await google.colab.kernel.invokeFunction(\n",
              "                'suggestCharts', [key], {});\n",
              "          } catch (error) {\n",
              "            console.error('Error during call to suggestCharts:', error);\n",
              "          }\n",
              "          quickchartButtonEl.classList.remove('colab-df-spinner');\n",
              "          quickchartButtonEl.classList.add('colab-df-quickchart-complete');\n",
              "        }\n",
              "        (() => {\n",
              "          let quickchartButtonEl =\n",
              "            document.querySelector('#df-c80c85b2-0285-4ba8-8e81-acfa93f97d12 button');\n",
              "          quickchartButtonEl.style.display =\n",
              "            google.colab.kernel.accessAllowed ? 'block' : 'none';\n",
              "        })();\n",
              "      </script>\n",
              "    </div>\n",
              "\n",
              "    </div>\n",
              "  </div>\n"
            ],
            "text/plain": [
              "   RecipeId                               Name  AuthorId      AuthorName  \\\n",
              "0      38.0  Low-Fat Berry Blue Frozen Dessert      1533          Dancer   \n",
              "1      39.0                            Biryani      1567        elly9812   \n",
              "2      40.0                      Best Lemonade      1566  Stephen Little   \n",
              "3      41.0     Carina's Tofu-Vegetable Kebabs      1586         Cyclopz   \n",
              "4      42.0                       Cabbage Soup      1538       Duckie067   \n",
              "\n",
              "  CookTime PrepTime TotalTime             DatePublished  \\\n",
              "0    PT24H    PT45M  PT24H45M 1999-08-09 21:46:00+00:00   \n",
              "1    PT25M     PT4H   PT4H25M 1999-08-29 13:12:00+00:00   \n",
              "2     PT5M    PT30M     PT35M 1999-09-05 19:52:00+00:00   \n",
              "3    PT20M    PT24H  PT24H20M 1999-09-03 14:54:00+00:00   \n",
              "4    PT30M    PT20M     PT50M 1999-09-19 06:19:00+00:00   \n",
              "\n",
              "                                         Description  \\\n",
              "0  Make and share this Low-Fat Berry Blue Frozen ...   \n",
              "1  Make and share this Biryani recipe from Food.com.   \n",
              "2  This is from one of my  first Good House Keepi...   \n",
              "3  This dish is best prepared a day in advance to...   \n",
              "4  Make and share this Cabbage Soup recipe from F...   \n",
              "\n",
              "                                              Images  ... SaturatedFatContent  \\\n",
              "0  [https://img.sndimg.com/food/image/upload/w_55...  ...                 1.3   \n",
              "1  [https://img.sndimg.com/food/image/upload/w_55...  ...                16.6   \n",
              "2  [https://img.sndimg.com/food/image/upload/w_55...  ...                 0.0   \n",
              "3  [https://img.sndimg.com/food/image/upload/w_55...  ...                 3.8   \n",
              "4  [https://img.sndimg.com/food/image/upload/w_55...  ...                 0.1   \n",
              "\n",
              "  CholesterolContent SodiumContent CarbohydrateContent  FiberContent  \\\n",
              "0                8.0          29.8                37.1           3.6   \n",
              "1              372.8         368.4                84.4           9.0   \n",
              "2                0.0           1.8                81.5           0.4   \n",
              "3                0.0        1558.6                64.2          17.3   \n",
              "4                0.0         959.3                25.1           4.8   \n",
              "\n",
              "   SugarContent  ProteinContent  RecipeServings  RecipeYield  \\\n",
              "0          30.2             3.2             4.0         None   \n",
              "1          20.4            63.4             6.0         None   \n",
              "2          77.2             0.3             4.0         None   \n",
              "3          32.1            29.3             2.0     4 kebabs   \n",
              "4          17.7             4.3             4.0         None   \n",
              "\n",
              "                                  RecipeInstructions  \n",
              "0  [Toss 2 cups berries with sugar., Let stand fo...  \n",
              "1  [Soak saffron in warm milk for 5 minutes and p...  \n",
              "2  [Into a 1 quart Jar with tight fitting lid, pu...  \n",
              "3  [Drain the tofu, carefully squeezing out exces...  \n",
              "4  [Mix everything together and bring to a boil.,...  \n",
              "\n",
              "[5 rows x 28 columns]"
            ]
          },
          "execution_count": 9,
          "metadata": {},
          "output_type": "execute_result"
        }
      ],
      "source": [
        "df_recipes.head()"
      ]
    },
    {
      "cell_type": "code",
      "execution_count": 10,
      "metadata": {
        "colab": {
          "base_uri": "https://localhost:8080/",
          "height": 206
        },
        "id": "cry051F5NuFC",
        "outputId": "e466e56d-e435-4673-960c-0f0e4fa5fe94"
      },
      "outputs": [
        {
          "data": {
            "application/vnd.google.colaboratory.intrinsic+json": {
              "type": "dataframe",
              "variable_name": "df_reviews"
            },
            "text/html": [
              "\n",
              "  <div id=\"df-b6f867c8-6780-4056-b95c-25be8612d182\" class=\"colab-df-container\">\n",
              "    <div>\n",
              "<style scoped>\n",
              "    .dataframe tbody tr th:only-of-type {\n",
              "        vertical-align: middle;\n",
              "    }\n",
              "\n",
              "    .dataframe tbody tr th {\n",
              "        vertical-align: top;\n",
              "    }\n",
              "\n",
              "    .dataframe thead th {\n",
              "        text-align: right;\n",
              "    }\n",
              "</style>\n",
              "<table border=\"1\" class=\"dataframe\">\n",
              "  <thead>\n",
              "    <tr style=\"text-align: right;\">\n",
              "      <th></th>\n",
              "      <th>ReviewId</th>\n",
              "      <th>RecipeId</th>\n",
              "      <th>AuthorId</th>\n",
              "      <th>AuthorName</th>\n",
              "      <th>Rating</th>\n",
              "      <th>Review</th>\n",
              "      <th>DateSubmitted</th>\n",
              "      <th>DateModified</th>\n",
              "    </tr>\n",
              "  </thead>\n",
              "  <tbody>\n",
              "    <tr>\n",
              "      <th>0</th>\n",
              "      <td>2</td>\n",
              "      <td>992</td>\n",
              "      <td>2008</td>\n",
              "      <td>gayg msft</td>\n",
              "      <td>5</td>\n",
              "      <td>better than any you can get at a restaurant!</td>\n",
              "      <td>2000-01-25 21:44:00+00:00</td>\n",
              "      <td>2000-01-25 21:44:00+00:00</td>\n",
              "    </tr>\n",
              "    <tr>\n",
              "      <th>1</th>\n",
              "      <td>7</td>\n",
              "      <td>4384</td>\n",
              "      <td>1634</td>\n",
              "      <td>Bill Hilbrich</td>\n",
              "      <td>4</td>\n",
              "      <td>I cut back on the mayo, and made up the differ...</td>\n",
              "      <td>2001-10-17 16:49:59+00:00</td>\n",
              "      <td>2001-10-17 16:49:59+00:00</td>\n",
              "    </tr>\n",
              "    <tr>\n",
              "      <th>2</th>\n",
              "      <td>9</td>\n",
              "      <td>4523</td>\n",
              "      <td>2046</td>\n",
              "      <td>Gay Gilmore ckpt</td>\n",
              "      <td>2</td>\n",
              "      <td>i think i did something wrong because i could ...</td>\n",
              "      <td>2000-02-25 09:00:00+00:00</td>\n",
              "      <td>2000-02-25 09:00:00+00:00</td>\n",
              "    </tr>\n",
              "    <tr>\n",
              "      <th>3</th>\n",
              "      <td>13</td>\n",
              "      <td>7435</td>\n",
              "      <td>1773</td>\n",
              "      <td>Malarkey Test</td>\n",
              "      <td>5</td>\n",
              "      <td>easily the best i have ever had.  juicy flavor...</td>\n",
              "      <td>2000-03-13 21:15:00+00:00</td>\n",
              "      <td>2000-03-13 21:15:00+00:00</td>\n",
              "    </tr>\n",
              "    <tr>\n",
              "      <th>4</th>\n",
              "      <td>14</td>\n",
              "      <td>44</td>\n",
              "      <td>2085</td>\n",
              "      <td>Tony Small</td>\n",
              "      <td>5</td>\n",
              "      <td>An excellent dish.</td>\n",
              "      <td>2000-03-28 12:51:00+00:00</td>\n",
              "      <td>2000-03-28 12:51:00+00:00</td>\n",
              "    </tr>\n",
              "  </tbody>\n",
              "</table>\n",
              "</div>\n",
              "    <div class=\"colab-df-buttons\">\n",
              "\n",
              "  <div class=\"colab-df-container\">\n",
              "    <button class=\"colab-df-convert\" onclick=\"convertToInteractive('df-b6f867c8-6780-4056-b95c-25be8612d182')\"\n",
              "            title=\"Convert this dataframe to an interactive table.\"\n",
              "            style=\"display:none;\">\n",
              "\n",
              "  <svg xmlns=\"http://www.w3.org/2000/svg\" height=\"24px\" viewBox=\"0 -960 960 960\">\n",
              "    <path d=\"M120-120v-720h720v720H120Zm60-500h600v-160H180v160Zm220 220h160v-160H400v160Zm0 220h160v-160H400v160ZM180-400h160v-160H180v160Zm440 0h160v-160H620v160ZM180-180h160v-160H180v160Zm440 0h160v-160H620v160Z\"/>\n",
              "  </svg>\n",
              "    </button>\n",
              "\n",
              "  <style>\n",
              "    .colab-df-container {\n",
              "      display:flex;\n",
              "      gap: 12px;\n",
              "    }\n",
              "\n",
              "    .colab-df-convert {\n",
              "      background-color: #E8F0FE;\n",
              "      border: none;\n",
              "      border-radius: 50%;\n",
              "      cursor: pointer;\n",
              "      display: none;\n",
              "      fill: #1967D2;\n",
              "      height: 32px;\n",
              "      padding: 0 0 0 0;\n",
              "      width: 32px;\n",
              "    }\n",
              "\n",
              "    .colab-df-convert:hover {\n",
              "      background-color: #E2EBFA;\n",
              "      box-shadow: 0px 1px 2px rgba(60, 64, 67, 0.3), 0px 1px 3px 1px rgba(60, 64, 67, 0.15);\n",
              "      fill: #174EA6;\n",
              "    }\n",
              "\n",
              "    .colab-df-buttons div {\n",
              "      margin-bottom: 4px;\n",
              "    }\n",
              "\n",
              "    [theme=dark] .colab-df-convert {\n",
              "      background-color: #3B4455;\n",
              "      fill: #D2E3FC;\n",
              "    }\n",
              "\n",
              "    [theme=dark] .colab-df-convert:hover {\n",
              "      background-color: #434B5C;\n",
              "      box-shadow: 0px 1px 3px 1px rgba(0, 0, 0, 0.15);\n",
              "      filter: drop-shadow(0px 1px 2px rgba(0, 0, 0, 0.3));\n",
              "      fill: #FFFFFF;\n",
              "    }\n",
              "  </style>\n",
              "\n",
              "    <script>\n",
              "      const buttonEl =\n",
              "        document.querySelector('#df-b6f867c8-6780-4056-b95c-25be8612d182 button.colab-df-convert');\n",
              "      buttonEl.style.display =\n",
              "        google.colab.kernel.accessAllowed ? 'block' : 'none';\n",
              "\n",
              "      async function convertToInteractive(key) {\n",
              "        const element = document.querySelector('#df-b6f867c8-6780-4056-b95c-25be8612d182');\n",
              "        const dataTable =\n",
              "          await google.colab.kernel.invokeFunction('convertToInteractive',\n",
              "                                                    [key], {});\n",
              "        if (!dataTable) return;\n",
              "\n",
              "        const docLinkHtml = 'Like what you see? Visit the ' +\n",
              "          '<a target=\"_blank\" href=https://colab.research.google.com/notebooks/data_table.ipynb>data table notebook</a>'\n",
              "          + ' to learn more about interactive tables.';\n",
              "        element.innerHTML = '';\n",
              "        dataTable['output_type'] = 'display_data';\n",
              "        await google.colab.output.renderOutput(dataTable, element);\n",
              "        const docLink = document.createElement('div');\n",
              "        docLink.innerHTML = docLinkHtml;\n",
              "        element.appendChild(docLink);\n",
              "      }\n",
              "    </script>\n",
              "  </div>\n",
              "\n",
              "\n",
              "    <div id=\"df-26384bee-02af-448e-8e44-8dd9c81c2c2e\">\n",
              "      <button class=\"colab-df-quickchart\" onclick=\"quickchart('df-26384bee-02af-448e-8e44-8dd9c81c2c2e')\"\n",
              "                title=\"Suggest charts\"\n",
              "                style=\"display:none;\">\n",
              "\n",
              "<svg xmlns=\"http://www.w3.org/2000/svg\" height=\"24px\"viewBox=\"0 0 24 24\"\n",
              "     width=\"24px\">\n",
              "    <g>\n",
              "        <path d=\"M19 3H5c-1.1 0-2 .9-2 2v14c0 1.1.9 2 2 2h14c1.1 0 2-.9 2-2V5c0-1.1-.9-2-2-2zM9 17H7v-7h2v7zm4 0h-2V7h2v10zm4 0h-2v-4h2v4z\"/>\n",
              "    </g>\n",
              "</svg>\n",
              "      </button>\n",
              "\n",
              "<style>\n",
              "  .colab-df-quickchart {\n",
              "      --bg-color: #E8F0FE;\n",
              "      --fill-color: #1967D2;\n",
              "      --hover-bg-color: #E2EBFA;\n",
              "      --hover-fill-color: #174EA6;\n",
              "      --disabled-fill-color: #AAA;\n",
              "      --disabled-bg-color: #DDD;\n",
              "  }\n",
              "\n",
              "  [theme=dark] .colab-df-quickchart {\n",
              "      --bg-color: #3B4455;\n",
              "      --fill-color: #D2E3FC;\n",
              "      --hover-bg-color: #434B5C;\n",
              "      --hover-fill-color: #FFFFFF;\n",
              "      --disabled-bg-color: #3B4455;\n",
              "      --disabled-fill-color: #666;\n",
              "  }\n",
              "\n",
              "  .colab-df-quickchart {\n",
              "    background-color: var(--bg-color);\n",
              "    border: none;\n",
              "    border-radius: 50%;\n",
              "    cursor: pointer;\n",
              "    display: none;\n",
              "    fill: var(--fill-color);\n",
              "    height: 32px;\n",
              "    padding: 0;\n",
              "    width: 32px;\n",
              "  }\n",
              "\n",
              "  .colab-df-quickchart:hover {\n",
              "    background-color: var(--hover-bg-color);\n",
              "    box-shadow: 0 1px 2px rgba(60, 64, 67, 0.3), 0 1px 3px 1px rgba(60, 64, 67, 0.15);\n",
              "    fill: var(--button-hover-fill-color);\n",
              "  }\n",
              "\n",
              "  .colab-df-quickchart-complete:disabled,\n",
              "  .colab-df-quickchart-complete:disabled:hover {\n",
              "    background-color: var(--disabled-bg-color);\n",
              "    fill: var(--disabled-fill-color);\n",
              "    box-shadow: none;\n",
              "  }\n",
              "\n",
              "  .colab-df-spinner {\n",
              "    border: 2px solid var(--fill-color);\n",
              "    border-color: transparent;\n",
              "    border-bottom-color: var(--fill-color);\n",
              "    animation:\n",
              "      spin 1s steps(1) infinite;\n",
              "  }\n",
              "\n",
              "  @keyframes spin {\n",
              "    0% {\n",
              "      border-color: transparent;\n",
              "      border-bottom-color: var(--fill-color);\n",
              "      border-left-color: var(--fill-color);\n",
              "    }\n",
              "    20% {\n",
              "      border-color: transparent;\n",
              "      border-left-color: var(--fill-color);\n",
              "      border-top-color: var(--fill-color);\n",
              "    }\n",
              "    30% {\n",
              "      border-color: transparent;\n",
              "      border-left-color: var(--fill-color);\n",
              "      border-top-color: var(--fill-color);\n",
              "      border-right-color: var(--fill-color);\n",
              "    }\n",
              "    40% {\n",
              "      border-color: transparent;\n",
              "      border-right-color: var(--fill-color);\n",
              "      border-top-color: var(--fill-color);\n",
              "    }\n",
              "    60% {\n",
              "      border-color: transparent;\n",
              "      border-right-color: var(--fill-color);\n",
              "    }\n",
              "    80% {\n",
              "      border-color: transparent;\n",
              "      border-right-color: var(--fill-color);\n",
              "      border-bottom-color: var(--fill-color);\n",
              "    }\n",
              "    90% {\n",
              "      border-color: transparent;\n",
              "      border-bottom-color: var(--fill-color);\n",
              "    }\n",
              "  }\n",
              "</style>\n",
              "\n",
              "      <script>\n",
              "        async function quickchart(key) {\n",
              "          const quickchartButtonEl =\n",
              "            document.querySelector('#' + key + ' button');\n",
              "          quickchartButtonEl.disabled = true;  // To prevent multiple clicks.\n",
              "          quickchartButtonEl.classList.add('colab-df-spinner');\n",
              "          try {\n",
              "            const charts = await google.colab.kernel.invokeFunction(\n",
              "                'suggestCharts', [key], {});\n",
              "          } catch (error) {\n",
              "            console.error('Error during call to suggestCharts:', error);\n",
              "          }\n",
              "          quickchartButtonEl.classList.remove('colab-df-spinner');\n",
              "          quickchartButtonEl.classList.add('colab-df-quickchart-complete');\n",
              "        }\n",
              "        (() => {\n",
              "          let quickchartButtonEl =\n",
              "            document.querySelector('#df-26384bee-02af-448e-8e44-8dd9c81c2c2e button');\n",
              "          quickchartButtonEl.style.display =\n",
              "            google.colab.kernel.accessAllowed ? 'block' : 'none';\n",
              "        })();\n",
              "      </script>\n",
              "    </div>\n",
              "\n",
              "    </div>\n",
              "  </div>\n"
            ],
            "text/plain": [
              "   ReviewId  RecipeId  AuthorId        AuthorName  Rating  \\\n",
              "0         2       992      2008         gayg msft       5   \n",
              "1         7      4384      1634     Bill Hilbrich       4   \n",
              "2         9      4523      2046  Gay Gilmore ckpt       2   \n",
              "3        13      7435      1773     Malarkey Test       5   \n",
              "4        14        44      2085        Tony Small       5   \n",
              "\n",
              "                                              Review  \\\n",
              "0       better than any you can get at a restaurant!   \n",
              "1  I cut back on the mayo, and made up the differ...   \n",
              "2  i think i did something wrong because i could ...   \n",
              "3  easily the best i have ever had.  juicy flavor...   \n",
              "4                                 An excellent dish.   \n",
              "\n",
              "              DateSubmitted              DateModified  \n",
              "0 2000-01-25 21:44:00+00:00 2000-01-25 21:44:00+00:00  \n",
              "1 2001-10-17 16:49:59+00:00 2001-10-17 16:49:59+00:00  \n",
              "2 2000-02-25 09:00:00+00:00 2000-02-25 09:00:00+00:00  \n",
              "3 2000-03-13 21:15:00+00:00 2000-03-13 21:15:00+00:00  \n",
              "4 2000-03-28 12:51:00+00:00 2000-03-28 12:51:00+00:00  "
            ]
          },
          "execution_count": 10,
          "metadata": {},
          "output_type": "execute_result"
        }
      ],
      "source": [
        "df_reviews.head()"
      ]
    },
    {
      "cell_type": "code",
      "execution_count": 11,
      "metadata": {
        "colab": {
          "base_uri": "https://localhost:8080/",
          "height": 961
        },
        "id": "0Dmh2xhmJ26-",
        "outputId": "2a52bb12-2e35-4b18-a99e-df9a0809ff26"
      },
      "outputs": [
        {
          "data": {
            "text/html": [
              "<div>\n",
              "<style scoped>\n",
              "    .dataframe tbody tr th:only-of-type {\n",
              "        vertical-align: middle;\n",
              "    }\n",
              "\n",
              "    .dataframe tbody tr th {\n",
              "        vertical-align: top;\n",
              "    }\n",
              "\n",
              "    .dataframe thead th {\n",
              "        text-align: right;\n",
              "    }\n",
              "</style>\n",
              "<table border=\"1\" class=\"dataframe\">\n",
              "  <thead>\n",
              "    <tr style=\"text-align: right;\">\n",
              "      <th></th>\n",
              "      <th>0</th>\n",
              "    </tr>\n",
              "  </thead>\n",
              "  <tbody>\n",
              "    <tr>\n",
              "      <th>RecipeId</th>\n",
              "      <td>0</td>\n",
              "    </tr>\n",
              "    <tr>\n",
              "      <th>Name</th>\n",
              "      <td>0</td>\n",
              "    </tr>\n",
              "    <tr>\n",
              "      <th>AuthorId</th>\n",
              "      <td>0</td>\n",
              "    </tr>\n",
              "    <tr>\n",
              "      <th>AuthorName</th>\n",
              "      <td>0</td>\n",
              "    </tr>\n",
              "    <tr>\n",
              "      <th>CookTime</th>\n",
              "      <td>82545</td>\n",
              "    </tr>\n",
              "    <tr>\n",
              "      <th>PrepTime</th>\n",
              "      <td>0</td>\n",
              "    </tr>\n",
              "    <tr>\n",
              "      <th>TotalTime</th>\n",
              "      <td>0</td>\n",
              "    </tr>\n",
              "    <tr>\n",
              "      <th>DatePublished</th>\n",
              "      <td>0</td>\n",
              "    </tr>\n",
              "    <tr>\n",
              "      <th>Description</th>\n",
              "      <td>5</td>\n",
              "    </tr>\n",
              "    <tr>\n",
              "      <th>Images</th>\n",
              "      <td>1</td>\n",
              "    </tr>\n",
              "    <tr>\n",
              "      <th>RecipeCategory</th>\n",
              "      <td>751</td>\n",
              "    </tr>\n",
              "    <tr>\n",
              "      <th>Keywords</th>\n",
              "      <td>0</td>\n",
              "    </tr>\n",
              "    <tr>\n",
              "      <th>RecipeIngredientQuantities</th>\n",
              "      <td>0</td>\n",
              "    </tr>\n",
              "    <tr>\n",
              "      <th>RecipeIngredientParts</th>\n",
              "      <td>0</td>\n",
              "    </tr>\n",
              "    <tr>\n",
              "      <th>AggregatedRating</th>\n",
              "      <td>253223</td>\n",
              "    </tr>\n",
              "    <tr>\n",
              "      <th>ReviewCount</th>\n",
              "      <td>247489</td>\n",
              "    </tr>\n",
              "    <tr>\n",
              "      <th>Calories</th>\n",
              "      <td>0</td>\n",
              "    </tr>\n",
              "    <tr>\n",
              "      <th>FatContent</th>\n",
              "      <td>0</td>\n",
              "    </tr>\n",
              "    <tr>\n",
              "      <th>SaturatedFatContent</th>\n",
              "      <td>0</td>\n",
              "    </tr>\n",
              "    <tr>\n",
              "      <th>CholesterolContent</th>\n",
              "      <td>0</td>\n",
              "    </tr>\n",
              "    <tr>\n",
              "      <th>SodiumContent</th>\n",
              "      <td>0</td>\n",
              "    </tr>\n",
              "    <tr>\n",
              "      <th>CarbohydrateContent</th>\n",
              "      <td>0</td>\n",
              "    </tr>\n",
              "    <tr>\n",
              "      <th>FiberContent</th>\n",
              "      <td>0</td>\n",
              "    </tr>\n",
              "    <tr>\n",
              "      <th>SugarContent</th>\n",
              "      <td>0</td>\n",
              "    </tr>\n",
              "    <tr>\n",
              "      <th>ProteinContent</th>\n",
              "      <td>0</td>\n",
              "    </tr>\n",
              "    <tr>\n",
              "      <th>RecipeServings</th>\n",
              "      <td>182911</td>\n",
              "    </tr>\n",
              "    <tr>\n",
              "      <th>RecipeYield</th>\n",
              "      <td>348071</td>\n",
              "    </tr>\n",
              "    <tr>\n",
              "      <th>RecipeInstructions</th>\n",
              "      <td>0</td>\n",
              "    </tr>\n",
              "  </tbody>\n",
              "</table>\n",
              "</div><br><label><b>dtype:</b> int64</label>"
            ],
            "text/plain": [
              "RecipeId                           0\n",
              "Name                               0\n",
              "AuthorId                           0\n",
              "AuthorName                         0\n",
              "CookTime                       82545\n",
              "PrepTime                           0\n",
              "TotalTime                          0\n",
              "DatePublished                      0\n",
              "Description                        5\n",
              "Images                             1\n",
              "RecipeCategory                   751\n",
              "Keywords                           0\n",
              "RecipeIngredientQuantities         0\n",
              "RecipeIngredientParts              0\n",
              "AggregatedRating              253223\n",
              "ReviewCount                   247489\n",
              "Calories                           0\n",
              "FatContent                         0\n",
              "SaturatedFatContent                0\n",
              "CholesterolContent                 0\n",
              "SodiumContent                      0\n",
              "CarbohydrateContent                0\n",
              "FiberContent                       0\n",
              "SugarContent                       0\n",
              "ProteinContent                     0\n",
              "RecipeServings                182911\n",
              "RecipeYield                   348071\n",
              "RecipeInstructions                 0\n",
              "dtype: int64"
            ]
          },
          "execution_count": 11,
          "metadata": {},
          "output_type": "execute_result"
        }
      ],
      "source": [
        "df_recipes.isnull().sum()"
      ]
    },
    {
      "cell_type": "code",
      "execution_count": 12,
      "metadata": {
        "colab": {
          "base_uri": "https://localhost:8080/",
          "height": 335
        },
        "id": "VV-jpqJ6N3jZ",
        "outputId": "d4d47bfe-0ade-4563-fbca-3ef03a4c1413"
      },
      "outputs": [
        {
          "data": {
            "text/html": [
              "<div>\n",
              "<style scoped>\n",
              "    .dataframe tbody tr th:only-of-type {\n",
              "        vertical-align: middle;\n",
              "    }\n",
              "\n",
              "    .dataframe tbody tr th {\n",
              "        vertical-align: top;\n",
              "    }\n",
              "\n",
              "    .dataframe thead th {\n",
              "        text-align: right;\n",
              "    }\n",
              "</style>\n",
              "<table border=\"1\" class=\"dataframe\">\n",
              "  <thead>\n",
              "    <tr style=\"text-align: right;\">\n",
              "      <th></th>\n",
              "      <th>0</th>\n",
              "    </tr>\n",
              "  </thead>\n",
              "  <tbody>\n",
              "    <tr>\n",
              "      <th>ReviewId</th>\n",
              "      <td>0</td>\n",
              "    </tr>\n",
              "    <tr>\n",
              "      <th>RecipeId</th>\n",
              "      <td>0</td>\n",
              "    </tr>\n",
              "    <tr>\n",
              "      <th>AuthorId</th>\n",
              "      <td>0</td>\n",
              "    </tr>\n",
              "    <tr>\n",
              "      <th>AuthorName</th>\n",
              "      <td>0</td>\n",
              "    </tr>\n",
              "    <tr>\n",
              "      <th>Rating</th>\n",
              "      <td>0</td>\n",
              "    </tr>\n",
              "    <tr>\n",
              "      <th>Review</th>\n",
              "      <td>0</td>\n",
              "    </tr>\n",
              "    <tr>\n",
              "      <th>DateSubmitted</th>\n",
              "      <td>0</td>\n",
              "    </tr>\n",
              "    <tr>\n",
              "      <th>DateModified</th>\n",
              "      <td>0</td>\n",
              "    </tr>\n",
              "  </tbody>\n",
              "</table>\n",
              "</div><br><label><b>dtype:</b> int64</label>"
            ],
            "text/plain": [
              "ReviewId         0\n",
              "RecipeId         0\n",
              "AuthorId         0\n",
              "AuthorName       0\n",
              "Rating           0\n",
              "Review           0\n",
              "DateSubmitted    0\n",
              "DateModified     0\n",
              "dtype: int64"
            ]
          },
          "execution_count": 12,
          "metadata": {},
          "output_type": "execute_result"
        }
      ],
      "source": [
        "df_reviews.isnull().sum()"
      ]
    },
    {
      "cell_type": "markdown",
      "metadata": {
        "id": "RUXicRFSU9GL"
      },
      "source": [
        "# Data Cleaning"
      ]
    },
    {
      "cell_type": "code",
      "execution_count": 13,
      "metadata": {
        "id": "HwGFU4tkMvqa"
      },
      "outputs": [],
      "source": [
        "#Handling Missing Values\n",
        "df_recipes['AggregatedRating'] = df_recipes['AggregatedRating'].fillna(0)\n",
        "df_recipes['ReviewCount'] = df_recipes['ReviewCount'].fillna(0)\n",
        "df_recipes['RecipeServings'] = df_recipes['RecipeServings'].fillna(df_recipes['RecipeServings'].median())\n",
        "df_recipes['RecipeCategory'] = df_recipes['RecipeCategory'].fillna(\"Unknown\").str.lower().str.strip()\n",
        "\n",
        "df_reviews.dropna(subset=['Review'], inplace=True)"
      ]
    },
    {
      "cell_type": "code",
      "execution_count": 14,
      "metadata": {
        "id": "jaaMGwtxA3NJ"
      },
      "outputs": [],
      "source": [
        "# Converting the time to minutes\n",
        "def safe_parse_minutes(x):\n",
        "    if pd.isnull(x) or not isinstance(x, str) or not x.startswith('P'):\n",
        "        return 0\n",
        "    try:\n",
        "        return parse_duration(x).total_seconds() / 60\n",
        "    except:\n",
        "        return 0\n",
        "\n",
        "df_recipes['CookTimeMinutes'] = df_recipes['CookTime'].apply(safe_parse_minutes)\n",
        "df_recipes['PrepTimeMinutes'] = df_recipes['PrepTime'].apply(safe_parse_minutes)\n",
        "df_recipes['TotalTimeMinutes'] = df_recipes['TotalTime'].apply(safe_parse_minutes)"
      ]
    },
    {
      "cell_type": "code",
      "execution_count": 15,
      "metadata": {
        "id": "yOuYKxn1BsO0"
      },
      "outputs": [],
      "source": [
        "# Filling missing time with 0\n",
        "df_recipes[['CookTimeMinutes', 'PrepTimeMinutes', 'TotalTimeMinutes']] = df_recipes[\n",
        "    ['CookTimeMinutes', 'PrepTimeMinutes', 'TotalTimeMinutes']\n",
        "].fillna(0)"
      ]
    },
    {
      "cell_type": "code",
      "execution_count": 16,
      "metadata": {
        "id": "5sRFm9GKPoS0"
      },
      "outputs": [],
      "source": [
        "# Drop rows where total time is less than 0\n",
        "df_recipes = df_recipes[df_recipes['TotalTimeMinutes'] > 0]\n"
      ]
    },
    {
      "cell_type": "code",
      "execution_count": null,
      "metadata": {
        "id": "6Kkev632NF3V"
      },
      "outputs": [],
      "source": [
        "# Convert numpy arrays to regular lists\n",
        "df_recipes['Ingredients'] = df_recipes['RecipeIngredientParts'].apply(lambda x: x.tolist() if isinstance(x, np.ndarray) else x)\n",
        "df_recipes['Quantities'] = df_recipes['RecipeIngredientQuantities'].apply(lambda x: x.tolist() if isinstance(x, np.ndarray) else x)"
      ]
    },
    {
      "cell_type": "code",
      "execution_count": 18,
      "metadata": {
        "id": "4aWpJyO7DTSi"
      },
      "outputs": [],
      "source": [
        "#Convert Text to Lowercase & Clean\n",
        "for text_col in ['Name', 'Description', 'RecipeInstructions','Keywords']:\n",
        "    df_recipes[text_col] = df_recipes[text_col].astype(str).str.lower().str.replace(r'[^a-z\\s]', '', regex=True)\n"
      ]
    },
    {
      "cell_type": "code",
      "execution_count": 19,
      "metadata": {
        "id": "ZKEcjAFhUR57"
      },
      "outputs": [],
      "source": [
        "#Tokenize Keywords into List Format\n",
        "df_recipes['KeywordList'] = df_recipes['Keywords'].apply(lambda x: x.split())"
      ]
    },
    {
      "cell_type": "code",
      "execution_count": 20,
      "metadata": {
        "id": "50Uw-DVINZoz"
      },
      "outputs": [],
      "source": [
        "df_reviews['Rating'] = df_reviews['Rating'].astype(float)"
      ]
    },
    {
      "cell_type": "code",
      "execution_count": 21,
      "metadata": {
        "id": "2a4eRq2rTiOq"
      },
      "outputs": [],
      "source": [
        "# Drop duplicate recipes and reviews\n",
        "df_recipes.drop_duplicates(subset=['RecipeId'], inplace=True)\n",
        "df_reviews.drop_duplicates(subset=['ReviewId'], inplace=True)\n"
      ]
    },
    {
      "cell_type": "code",
      "execution_count": 22,
      "metadata": {
        "id": "x3-n7WpQT2CP"
      },
      "outputs": [],
      "source": [
        "#Drop Recipes with Few reviews\n",
        "MIN_REVIEWS = 5\n",
        "popular_recipes = df_reviews['RecipeId'].value_counts()\n",
        "popular_recipes = popular_recipes[popular_recipes >= MIN_REVIEWS].index\n",
        "df_recipes = df_recipes[df_recipes['RecipeId'].isin(popular_recipes)]\n",
        "df_reviews = df_reviews[df_reviews['RecipeId'].isin(popular_recipes)]\n"
      ]
    },
    {
      "cell_type": "code",
      "execution_count": 23,
      "metadata": {
        "id": "Lxt7sbEk_2SN"
      },
      "outputs": [],
      "source": [
        "# Drop unnecesary cols\n",
        "drop_cols = ['AuthorName', 'TotalTime', 'PrepTime','CookTime','RecipeIngredientParts','RecipeIngredientQuantities','RecipeYield','Keywords']\n",
        "df_recipes.drop(columns=drop_cols, inplace=True, errors='ignore')\n",
        "\n",
        "drop_cols2 = ['AuthorName']\n",
        "df_reviews.drop(columns=drop_cols2, inplace=True, errors='ignore')"
      ]
    },
    {
      "cell_type": "code",
      "execution_count": 24,
      "metadata": {
        "id": "W3MgWHiEJ6Sq"
      },
      "outputs": [],
      "source": [
        "recipes_clean=df_recipes\n",
        "reviews_clean=df_reviews"
      ]
    },
    {
      "cell_type": "code",
      "execution_count": 25,
      "metadata": {
        "colab": {
          "base_uri": "https://localhost:8080/"
        },
        "id": "3gITRjp7xKAp",
        "outputId": "730bdebf-8343-44f3-e39b-353afb6239f7"
      },
      "outputs": [
        {
          "name": "stdout",
          "output_type": "stream",
          "text": [
            "Number of reviews with RecipeId not in recipes: 4079\n"
          ]
        }
      ],
      "source": [
        "missing_recipe_ids = reviews_clean[~reviews_clean['RecipeId'].isin(recipes_clean['RecipeId'])]\n",
        "print(f\"Number of reviews with RecipeId not in recipes: {len(missing_recipe_ids)}\")\n"
      ]
    },
    {
      "cell_type": "code",
      "execution_count": 26,
      "metadata": {
        "colab": {
          "base_uri": "https://localhost:8080/"
        },
        "id": "lHkI1CkWxNHs",
        "outputId": "459e3417-d7b0-4705-ef50-493fe57f005e"
      },
      "outputs": [
        {
          "name": "stdout",
          "output_type": "stream",
          "text": [
            "Number of reviews with AuthorId not in recipes: 532306\n"
          ]
        }
      ],
      "source": [
        "missing_author_ids = reviews_clean[~reviews_clean['AuthorId'].isin(recipes_clean['AuthorId'])]\n",
        "print(f\"Number of reviews with AuthorId not in recipes: {len(missing_author_ids)}\")\n"
      ]
    },
    {
      "cell_type": "code",
      "execution_count": 27,
      "metadata": {
        "colab": {
          "base_uri": "https://localhost:8080/"
        },
        "id": "A1BJZ6EsxOw1",
        "outputId": "c376d591-f258-4767-960e-cb1e5d7134ea"
      },
      "outputs": [
        {
          "name": "stdout",
          "output_type": "stream",
          "text": [
            "Number of reviews with unmatched RecipeId & AuthorId pairs: 1028061\n"
          ]
        }
      ],
      "source": [
        "# Create a set of valid (RecipeId, AuthorId) pairs from the recipes dataset\n",
        "valid_pairs = set(zip(recipes_clean['RecipeId'], recipes_clean['AuthorId']))\n",
        "\n",
        "# Check which rows in reviews don't have a matching pair\n",
        "invalid_pairs = reviews_clean[~reviews_clean.apply(lambda row: (row['RecipeId'], row['AuthorId']) in valid_pairs, axis=1)]\n",
        "\n",
        "print(f\"Number of reviews with unmatched RecipeId & AuthorId pairs: {len(invalid_pairs)}\")\n"
      ]
    },
    {
      "cell_type": "code",
      "execution_count": 28,
      "metadata": {
        "colab": {
          "base_uri": "https://localhost:8080/"
        },
        "id": "QnttKJmAzPLs",
        "outputId": "4f2b8a57-1618-4369-fc84-c1115763c463"
      },
      "outputs": [
        {
          "name": "stdout",
          "output_type": "stream",
          "text": [
            "Remaining reviews after filtering: 1024428\n"
          ]
        }
      ],
      "source": [
        "# Keep only reviews with RecipeIds that exist in recipes\n",
        "valid_reviews = reviews_clean[reviews_clean['RecipeId'].isin(recipes_clean['RecipeId'])].copy()\n",
        "\n",
        "print(f\"Remaining reviews after filtering: {len(valid_reviews)}\")\n"
      ]
    },
    {
      "cell_type": "code",
      "execution_count": null,
      "metadata": {
        "colab": {
          "base_uri": "https://localhost:8080/"
        },
        "id": "tkeZRWZ-zTOi",
        "outputId": "127741ec-9f22-4a46-e20f-e052a17b3d4d"
      },
      "outputs": [
        {
          "name": "stdout",
          "output_type": "stream",
          "text": [
            "Merged dataset shape: (1024428, 32)\n",
            "   RecipeId  AuthorId_review  AuthorId_recipe\n",
            "0       992             2008             1545\n",
            "1      4523             2046             1932\n",
            "2      7435             1773             1986\n",
            "3        44             2085             1596\n",
            "4     13307             2046            20914\n"
          ]
        }
      ],
      "source": [
        "# Merge on RecipeId\n",
        "merged_df = pd.merge(\n",
        "    valid_reviews,\n",
        "    recipes_clean,\n",
        "    on='RecipeId',\n",
        "    how='inner',\n",
        "    suffixes=('_review', '_recipe')\n",
        ")\n",
        "\n",
        "print(f\"Merged dataset shape: {merged_df.shape}\")\n",
        "print(merged_df[['RecipeId', 'AuthorId_review', 'AuthorId_recipe']].head())\n"
      ]
    },
    {
      "cell_type": "code",
      "execution_count": 32,
      "metadata": {
        "id": "Zs2neLdGXz4w"
      },
      "outputs": [],
      "source": [
        "# drop AuthorId_review - we are more interested in the authors of the recipes\n",
        "drop_cols3 = ['AuthorId_review']\n",
        "merged_df.drop(columns=drop_cols3, inplace=True, errors='ignore')"
      ]
    },
    {
      "cell_type": "code",
      "execution_count": 33,
      "metadata": {
        "colab": {
          "base_uri": "https://localhost:8080/"
        },
        "id": "y2QDShPFXYAc",
        "outputId": "05376d78-e68a-4c74-f05d-b9cf9a23bfd0"
      },
      "outputs": [
        {
          "name": "stdout",
          "output_type": "stream",
          "text": [
            "<class 'pandas.core.frame.DataFrame'>\n",
            "RangeIndex: 1024428 entries, 0 to 1024427\n",
            "Data columns (total 31 columns):\n",
            " #   Column               Non-Null Count    Dtype              \n",
            "---  ------               --------------    -----              \n",
            " 0   ReviewId             1024428 non-null  int32              \n",
            " 1   RecipeId             1024428 non-null  int32              \n",
            " 2   Rating               1024428 non-null  float64            \n",
            " 3   Review               1024428 non-null  object             \n",
            " 4   DateSubmitted        1024428 non-null  datetime64[us, UTC]\n",
            " 5   DateModified         1024428 non-null  datetime64[us, UTC]\n",
            " 6   Name                 1024428 non-null  object             \n",
            " 7   AuthorId_recipe      1024428 non-null  int32              \n",
            " 8   DatePublished        1024428 non-null  datetime64[us, UTC]\n",
            " 9   Description          1024428 non-null  object             \n",
            " 10  Images               1024428 non-null  object             \n",
            " 11  RecipeCategory       1024428 non-null  object             \n",
            " 12  AggregatedRating     1024428 non-null  float64            \n",
            " 13  ReviewCount          1024428 non-null  float64            \n",
            " 14  Calories             1024428 non-null  float64            \n",
            " 15  FatContent           1024428 non-null  float64            \n",
            " 16  SaturatedFatContent  1024428 non-null  float64            \n",
            " 17  CholesterolContent   1024428 non-null  float64            \n",
            " 18  SodiumContent        1024428 non-null  float64            \n",
            " 19  CarbohydrateContent  1024428 non-null  float64            \n",
            " 20  FiberContent         1024428 non-null  float64            \n",
            " 21  SugarContent         1024428 non-null  float64            \n",
            " 22  ProteinContent       1024428 non-null  float64            \n",
            " 23  RecipeServings       1024428 non-null  float64            \n",
            " 24  RecipeInstructions   1024428 non-null  object             \n",
            " 25  CookTimeMinutes      1024428 non-null  float64            \n",
            " 26  PrepTimeMinutes      1024428 non-null  float64            \n",
            " 27  TotalTimeMinutes     1024428 non-null  float64            \n",
            " 28  Ingredients          1024428 non-null  object             \n",
            " 29  Quantities           1024428 non-null  object             \n",
            " 30  KeywordList          1024428 non-null  object             \n",
            "dtypes: datetime64[us, UTC](3), float64(16), int32(3), object(9)\n",
            "memory usage: 230.6+ MB\n"
          ]
        }
      ],
      "source": [
        "merged_df.info()"
      ]
    },
    {
      "cell_type": "code",
      "execution_count": 34,
      "metadata": {
        "id": "cRCZlYsrUG87"
      },
      "outputs": [],
      "source": [
        "from sklearn.preprocessing import LabelEncoder\n",
        "\n",
        "recipe_encoder = LabelEncoder()\n",
        "author_encoder = LabelEncoder()\n",
        "\n",
        "merged_df['RecipeId_encoded'] = recipe_encoder.fit_transform(merged_df['RecipeId'])\n"
      ]
    },
    {
      "cell_type": "code",
      "execution_count": 35,
      "metadata": {
        "id": "VroLenthUfsH"
      },
      "outputs": [],
      "source": [
        "#Normalize Nutritional Features\n",
        "from sklearn.preprocessing import MinMaxScaler\n",
        "\n",
        "nutritional_cols = [\n",
        "    'Calories', 'FatContent', 'SaturatedFatContent', 'CholesterolContent',\n",
        "    'SodiumContent', 'CarbohydrateContent', 'FiberContent',\n",
        "    'SugarContent', 'ProteinContent'\n",
        "]\n",
        "\n",
        "scaler = MinMaxScaler()\n",
        "merged_df[nutritional_cols] = scaler.fit_transform(merged_df[nutritional_cols])\n"
      ]
    }
  ],
  "metadata": {
    "colab": {
      "provenance": []
    },
    "kernelspec": {
      "display_name": "Python 3",
      "name": "python3"
    },
    "language_info": {
      "name": "python"
    }
  },
  "nbformat": 4,
  "nbformat_minor": 0
}
